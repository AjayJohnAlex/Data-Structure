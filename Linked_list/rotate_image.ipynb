{
 "cells": [
  {
   "cell_type": "code",
   "execution_count": 2,
   "source": [
    "import numpy as np\r\n",
    "import matplotlib.pyplot as plt"
   ],
   "outputs": [],
   "metadata": {}
  },
  {
   "cell_type": "code",
   "execution_count": 3,
   "source": [
    "new_arr = np.array([[5,1,9,11],[2,4,8,10],[13,3,6,7],[15,14,12,16]])\r\n",
    "inverse_arr = np.array([[15,13,2,5],[14,3,4,1],[12,6,8,9],[16,7,10,11]])\r\n",
    "new_arr"
   ],
   "outputs": [
    {
     "output_type": "execute_result",
     "data": {
      "text/plain": [
       "array([[ 5,  1,  9, 11],\n",
       "       [ 2,  4,  8, 10],\n",
       "       [13,  3,  6,  7],\n",
       "       [15, 14, 12, 16]])"
      ]
     },
     "metadata": {},
     "execution_count": 3
    }
   ],
   "metadata": {}
  },
  {
   "cell_type": "code",
   "execution_count": 25,
   "source": [
    "inverse_arr"
   ],
   "outputs": [
    {
     "output_type": "execute_result",
     "data": {
      "text/plain": [
       "array([[15, 13,  2,  5],\n",
       "       [14,  3,  4,  1],\n",
       "       [12,  6,  8,  9],\n",
       "       [16,  7, 10, 11]])"
      ]
     },
     "metadata": {},
     "execution_count": 25
    }
   ],
   "metadata": {}
  },
  {
   "cell_type": "code",
   "execution_count": 27,
   "source": [
    "# for i in range(0,len(new_arr)):\r\n",
    "#     for j in range(0,len(new_arr)):\r\n",
    "#         print((i,j),new_arr[i,j])"
   ],
   "outputs": [],
   "metadata": {}
  },
  {
   "cell_type": "code",
   "execution_count": 23,
   "source": [
    "print(\"INPUT: \\n\")\r\n",
    "print(new_arr)\r\n",
    "new_list = []\r\n",
    "new_list_1 = []\r\n",
    "for i in range(0,len(new_arr)):\r\n",
    "    for j in range(0,len(new_arr)):\r\n",
    "        # print((i,j),new_arr[i,j])\r\n",
    "        temp = new_arr[i,j]\r\n",
    "        new_arr[i,j] = new_arr[j,i]\r\n",
    "        new_arr[j,i] = temp\r\n",
    "        \r\n",
    "    new_list.append(temp)\r\n",
    "print(\"OUTPUT:\\n\")\r\n",
    "print(new_list)"
   ],
   "outputs": [
    {
     "output_type": "stream",
     "name": "stdout",
     "text": [
      "INPUT: \n",
      "\n",
      "[[ 5  1  9 11]\n",
      " [ 2  4  8 10]\n",
      " [13  3  6  7]\n",
      " [15 14 12 16]]\n",
      "OUTPUT:\n",
      "\n",
      "[11, 10, 7, 16]\n"
     ]
    }
   ],
   "metadata": {}
  },
  {
   "cell_type": "code",
   "execution_count": null,
   "source": [],
   "outputs": [],
   "metadata": {}
  }
 ],
 "metadata": {
  "orig_nbformat": 4,
  "language_info": {
   "name": "python",
   "version": "3.8.5",
   "mimetype": "text/x-python",
   "codemirror_mode": {
    "name": "ipython",
    "version": 3
   },
   "pygments_lexer": "ipython3",
   "nbconvert_exporter": "python",
   "file_extension": ".py"
  },
  "kernelspec": {
   "name": "python3",
   "display_name": "Python 3.8.5 64-bit ('base': conda)"
  },
  "interpreter": {
   "hash": "3d8394303a65033b5d51b9645125ef8c7011c91abc87111f670d8d038d58b13a"
  }
 },
 "nbformat": 4,
 "nbformat_minor": 2
}