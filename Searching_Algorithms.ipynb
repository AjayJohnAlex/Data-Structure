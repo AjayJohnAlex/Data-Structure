{
  "nbformat": 4,
  "nbformat_minor": 0,
  "metadata": {
    "colab": {
      "name": "Searching Algorithms.ipynb",
      "provenance": [],
      "authorship_tag": "ABX9TyM7255yJ2MR3ZdAPzNPccM+"
    },
    "kernelspec": {
      "name": "python3",
      "display_name": "Python 3"
    }
  },
  "cells": [
    {
      "cell_type": "code",
      "metadata": {
        "id": "vQMcKRJy5hWO",
        "colab_type": "code",
        "colab": {}
      },
      "source": [
        "# LINEAR SEARCH"
      ],
      "execution_count": 0,
      "outputs": []
    },
    {
      "cell_type": "code",
      "metadata": {
        "id": "2otRKmsk5tAf",
        "colab_type": "code",
        "colab": {}
      },
      "source": [
        "class LSearch:\n",
        "\n",
        "  def __init__(self,array_data,l_data):\n",
        "    self.array_data = array_data\n",
        "    self.l_data = l_data\n",
        "\n",
        "\n",
        "  def searching_method(self):\n",
        "\n",
        "    for i in range(len(self.array_data)):\n",
        "      if self.array_data[i] == self.l_data :\n",
        "        return f\"ELement at location: {i}\" \n",
        "      else:\n",
        "        pass\n",
        "    print(\"Sorry element  not in list\")\n"
      ],
      "execution_count": 0,
      "outputs": []
    },
    {
      "cell_type": "code",
      "metadata": {
        "id": "nd7LbjkjJzfA",
        "colab_type": "code",
        "colab": {}
      },
      "source": [
        "ls = LSearch([1,2,3,4,8,7,6,55,4,22,4],9)"
      ],
      "execution_count": 0,
      "outputs": []
    },
    {
      "cell_type": "code",
      "metadata": {
        "id": "SHq8_VlpJ7jL",
        "colab_type": "code",
        "colab": {
          "base_uri": "https://localhost:8080/",
          "height": 34
        },
        "outputId": "3fb66f2f-0bd0-4eb3-e914-2893489ac491"
      },
      "source": [
        "ls.searching_method()"
      ],
      "execution_count": 57,
      "outputs": [
        {
          "output_type": "stream",
          "text": [
            "Sorry element  not in list\n"
          ],
          "name": "stdout"
        }
      ]
    },
    {
      "cell_type": "code",
      "metadata": {
        "id": "av45cqdkKdiQ",
        "colab_type": "code",
        "colab": {}
      },
      "source": [
        "# Stacks next "
      ],
      "execution_count": 0,
      "outputs": []
    }
  ]
}